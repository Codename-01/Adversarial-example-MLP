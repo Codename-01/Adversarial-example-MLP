{
 "cells": [
  {
   "cell_type": "code",
   "execution_count": 31,
   "metadata": {},
   "outputs": [],
   "source": [
    "from Code.LoadMnist import get_MNIST_data,get_load_data\n",
    "from Code.def_NN import MLP\n",
    "from Code.NNtraining import NN_training\n",
    "from Code.FGSM import FGSM\n",
    "import torch\n",
    "import torchvision\n",
    "import numpy as np\n",
    "from torch.autograd import Variable\n",
    "import matplotlib.pyplot as plt"
   ]
  },
  {
   "cell_type": "markdown",
   "metadata": {},
   "source": [
    "Load MNIST data"
   ]
  },
  {
   "cell_type": "code",
   "execution_count": 2,
   "metadata": {},
   "outputs": [],
   "source": [
    "data_train,data_test = get_MNIST_data();\n",
    "data_loader_train,data_loader_test = get_load_data(data_train,data_test,64)"
   ]
  },
  {
   "cell_type": "markdown",
   "metadata": {},
   "source": [
    "Get multilayer perceptron"
   ]
  },
  {
   "cell_type": "code",
   "execution_count": 3,
   "metadata": {},
   "outputs": [],
   "source": [
    "model = MLP()\n",
    "cost = torch.nn.CrossEntropyLoss()"
   ]
  },
  {
   "cell_type": "markdown",
   "metadata": {},
   "source": [
    "Train Neural Network"
   ]
  },
  {
   "cell_type": "code",
   "execution_count": 8,
   "metadata": {},
   "outputs": [],
   "source": [
    "# optimizer = torch.optim.SGD(model.parameters(), lr = 0.2 , momentum=0)\n",
    "# n_epochs = 20\n",
    "\n",
    "# model = NN_training(n_epochs,data_loader_train,data_loader_test,cost,model,optimizer,data_train,data_test)\n",
    "\n",
    "# torch.save(model.state_dict(), \"./model/model_parameter.pkl\")"
   ]
  },
  {
   "cell_type": "markdown",
   "metadata": {},
   "source": [
    "Load already-trainned Neural Network"
   ]
  },
  {
   "cell_type": "code",
   "execution_count": 9,
   "metadata": {},
   "outputs": [
    {
     "data": {
      "text/plain": [
       "IncompatibleKeys(missing_keys=[], unexpected_keys=[])"
      ]
     },
     "execution_count": 9,
     "metadata": {},
     "output_type": "execute_result"
    }
   ],
   "source": [
    "model.load_state_dict(torch.load(\"./model/model_parameter.pkl\"))"
   ]
  },
  {
   "cell_type": "markdown",
   "metadata": {},
   "source": [
    "Generating adversarial examples"
   ]
  },
  {
   "cell_type": "code",
   "execution_count": 175,
   "metadata": {},
   "outputs": [],
   "source": [
    "data_loader_test = torch.utils.data.DataLoader(dataset=data_test,\n",
    "                                          batch_size = 10,\n",
    "                                          shuffle = True)\n",
    "X_test, y_test = next(iter(data_loader_test))\n",
    "X_test = FGSM(X_test,y_test,model,cost,0.1) #epsilon=0.1\n",
    "Bild = X_test.detach().numpy()\n",
    "for i in range(0,10):\n",
    "    labels = './images/im'+np.str(i)+'.png'\n",
    "    plt.imsave(labels,Bild[i,0],cmap ='gray')"
   ]
  },
  {
   "cell_type": "markdown",
   "metadata": {},
   "source": [
    "Test accuracy of adversarial examples using trainned MLP"
   ]
  },
  {
   "cell_type": "code",
   "execution_count": 174,
   "metadata": {},
   "outputs": [
    {
     "name": "stdout",
     "output_type": "stream",
     "text": [
      "The accuracy of adversarial example is 13.000%\n"
     ]
    }
   ],
   "source": [
    "data_loader_test = torch.utils.data.DataLoader(dataset=data_test,\n",
    "                                          batch_size = 64,\n",
    "                                          shuffle = True)\n",
    "sum_correct = 0;\n",
    "for data in data_loader_test:\n",
    "    X_test, y_test = data\n",
    "    X_test = FGSM(X_test,y_test,model,cost,0.1) #epsilon=0.1\n",
    "    inputs = Variable(X_test)\n",
    "    outputs = model(inputs)\n",
    "    _,pred = torch.max(outputs, 1)\n",
    "    sum_correct += torch.sum(pred == y_test.data)\n",
    "\n",
    "print(\"The accuracy of adversarial example is {:.3f}%\".format(100*sum_correct/len(data_test)))"
   ]
  }
 ],
 "metadata": {
  "kernelspec": {
   "display_name": "Python 3",
   "language": "python",
   "name": "python3"
  },
  "language_info": {
   "codemirror_mode": {
    "name": "ipython",
    "version": 3
   },
   "file_extension": ".py",
   "mimetype": "text/x-python",
   "name": "python",
   "nbconvert_exporter": "python",
   "pygments_lexer": "ipython3",
   "version": "3.6.8"
  }
 },
 "nbformat": 4,
 "nbformat_minor": 2
}
